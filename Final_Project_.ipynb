{
  "nbformat": 4,
  "nbformat_minor": 0,
  "metadata": {
    "colab": {
      "provenance": []
    },
    "kernelspec": {
      "name": "python3",
      "display_name": "Python 3"
    },
    "language_info": {
      "name": "python"
    }
  },
  "cells": [
    {
      "cell_type": "markdown",
      "source": [
        "# Final Project Notebook\n"
      ],
      "metadata": {
        "id": "_JXixJ8rOSrY"
      }
    },
    {
      "cell_type": "markdown",
      "source": [
        "## Introduction\n",
        "This notebook is created as part of the final project for demonstrating various skills in data science, including markdown formatting, Python coding, and sharing via GitHub.\n"
      ],
      "metadata": {
        "id": "IfwmpWwpOXPi"
      }
    },
    {
      "cell_type": "markdown",
      "source": [
        "## Data Science Languages\n",
        "- Python\n",
        "- R\n",
        "- SQL\n",
        "- Julia\n",
        "- Java\n",
        "- Scala\n"
      ],
      "metadata": {
        "id": "gXo1tKxiObJi"
      }
    },
    {
      "cell_type": "markdown",
      "source": [
        "## Data Science Libraries\n",
        "- NumPy\n",
        "- Pandas\n",
        "- Matplotlib\n",
        "- Scikit-learn\n",
        "- TensorFlow\n",
        "- Keras\n",
        "- PyTorch\n"
      ],
      "metadata": {
        "id": "bM7pxSJsOgT3"
      }
    },
    {
      "cell_type": "markdown",
      "source": [
        "## Data Science Tools\n",
        "\n",
        "| Tool             | Description                     |\n",
        "|------------------|---------------------------------|\n",
        "| Jupyter Notebook | Interactive computing notebook |\n",
        "| RStudio          | IDE for R programming          |\n",
        "| Apache Spark     | Big data processing framework  |\n",
        "| Tableau          | Data visualization software    |\n",
        "| Excel            | Spreadsheet for data analysis  |\n"
      ],
      "metadata": {
        "id": "ccgsxkQ7Ojkq"
      }
    },
    {
      "cell_type": "markdown",
      "source": [
        "## Arithmetic Expression Examples\n",
        "Below are examples of basic arithmetic expressions in Python, such as addition, subtraction, multiplication, and division.\n"
      ],
      "metadata": {
        "id": "5WEItDq1Omue"
      }
    },
    {
      "cell_type": "code",
      "execution_count": 1,
      "metadata": {
        "colab": {
          "base_uri": "https://localhost:8080/"
        },
        "id": "TgPytHeGOKih",
        "outputId": "9741fbac-6b18-4f42-c76c-f0f4a57c2c5b"
      },
      "outputs": [
        {
          "output_type": "execute_result",
          "data": {
            "text/plain": [
              "45"
            ]
          },
          "metadata": {},
          "execution_count": 1
        }
      ],
      "source": [
        "# Multiply and add numbers\n",
        "result = (5 * 7) + 10\n",
        "result\n"
      ]
    },
    {
      "cell_type": "code",
      "source": [
        "# Convert minutes to hours\n",
        "minutes = 150\n",
        "hours = minutes / 60\n",
        "hours\n"
      ],
      "metadata": {
        "colab": {
          "base_uri": "https://localhost:8080/"
        },
        "id": "cUaSqrdnO8FO",
        "outputId": "e72082a7-3886-4704-aae8-6192dd6084d5"
      },
      "execution_count": 2,
      "outputs": [
        {
          "output_type": "execute_result",
          "data": {
            "text/plain": [
              "2.5"
            ]
          },
          "metadata": {},
          "execution_count": 2
        }
      ]
    },
    {
      "cell_type": "markdown",
      "source": [
        "## Objectives\n",
        "- List programming languages used in data science.\n",
        "- Demonstrate data science libraries and tools.\n",
        "- Perform arithmetic operations in Python.\n",
        "- Convert units (e.g., minutes to hours).\n",
        "- Share the completed notebook on GitHub.\n"
      ],
      "metadata": {
        "id": "6muCtAlcPBQf"
      }
    },
    {
      "cell_type": "markdown",
      "source": [
        "## Author\n",
        "Penumatcha Venkata Satya Sai Sreshta\n"
      ],
      "metadata": {
        "id": "fExhVzIXPFWD"
      }
    },
    {
      "cell_type": "markdown",
      "source": [
        "## GitHub Link\n",
        "The notebook is publicly viewable at: [GitHub Repository Link](https://github.com/satya-30/IBM-DATASCIENCE-)\n"
      ],
      "metadata": {
        "id": "lrJBq3CgPPSi"
      }
    }
  ]
}